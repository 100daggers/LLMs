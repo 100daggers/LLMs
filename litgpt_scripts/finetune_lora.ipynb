{
 "cells": [
  {
   "cell_type": "code",
   "execution_count": null,
   "id": "71c3f79d-5bf2-4af3-8b8d-c5fa6d9081d1",
   "metadata": {},
   "outputs": [],
   "source": [
    "import json\n",
    "\n",
    "file_path = \"qa_dataset/squad_train.json\"\n",
    "\n",
    "with open(file_path, \"r\") as file:\n",
    "    data = json.load(file)\n",
    "print(\"Number of entries:\", len(data))\n",
    "data_mapped = []\n",
    "for i in range(len(data)):\n",
    "    data_mapped.append({\n",
    "        \"instruction\" : f\"Answer the following question based on the context: {data[i]['context']}\",\n",
    "        \"input\" : data[i][\"question\"],\n",
    "        \"output\" : data[i][\"answer\"]}\n",
    "                      )"
   ]
  },
  {
   "cell_type": "code",
   "execution_count": null,
   "id": "49acebe0-a480-4351-ba32-555eb69e8622",
   "metadata": {},
   "outputs": [],
   "source": [
    "data = data_mapped\n",
    "train_portion = int(len(data) * 0.85)  # 85% for training\n",
    "test_portion = int(len(data) * 0.15)    # 15% for testing\n",
    "\n",
    "train_data = data[:train_portion]\n",
    "test_data = data[train_portion:]"
   ]
  },
  {
   "cell_type": "code",
   "execution_count": null,
   "id": "3b4b3c0c-1a2f-4e5e-ac55-870ef4ac0dde",
   "metadata": {},
   "outputs": [],
   "source": [
    "print(\"Training set length:\", len(train_data))\n",
    "print(\"Test set length:\", len(test_data))\n",
    "\n",
    "    \n",
    "    "
   ]
  },
  {
   "cell_type": "code",
   "execution_count": null,
   "id": "e28d5d7d-6f0c-43af-82a6-12a641543520",
   "metadata": {},
   "outputs": [],
   "source": [
    "with open(\"train.json\", \"w\") as json_file:\n",
    "    json.dump(train_data, json_file, indent=4)\n",
    "    \n",
    "with open(\"test.json\", \"w\") as json_file:\n",
    "    json.dump(test_data, json_file, indent=4)"
   ]
  },
  {
   "cell_type": "code",
   "execution_count": null,
   "id": "724d0550-8cbb-45e4-9902-4e993eb7dcef",
   "metadata": {},
   "outputs": [],
   "source": [
    "!litgpt finetune_lora --help"
   ]
  },
  {
   "cell_type": "code",
   "execution_count": null,
   "id": "b1b2eba9-c8d0-44fa-9922-6749e27dd120",
   "metadata": {},
   "outputs": [],
   "source": [
    "del "
   ]
  },
  {
   "cell_type": "code",
   "execution_count": null,
   "id": "7a014fa9-e3d4-4d8a-a8d5-73d7425f4a3a",
   "metadata": {},
   "outputs": [],
   "source": [
    "# Run this in command prompt\n",
    "#!litgpt finetune_lora meta-llama\\Llama-3.2-1B-Instruct --data JSON data.val_split_fraction 0.1 --data.json_path train.json --train.epochs 3 --train.log_interval 100"
   ]
  },
  {
   "cell_type": "code",
   "execution_count": null,
   "id": "49c85c31-666f-4eef-abd3-69df39bc26a4",
   "metadata": {},
   "outputs": [],
   "source": []
  }
 ],
 "metadata": {
  "kernelspec": {
   "display_name": "Python 3 (ipykernel)",
   "language": "python",
   "name": "python3"
  },
  "language_info": {
   "codemirror_mode": {
    "name": "ipython",
    "version": 3
   },
   "file_extension": ".py",
   "mimetype": "text/x-python",
   "name": "python",
   "nbconvert_exporter": "python",
   "pygments_lexer": "ipython3",
   "version": "3.11.9"
  }
 },
 "nbformat": 4,
 "nbformat_minor": 5
}
